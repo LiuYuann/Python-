{
 "cells": [
  {
   "cell_type": "markdown",
   "metadata": {},
   "source": [
    "## 测试与评估\n",
    "\n",
    "**实验任务：**测试和评估预测泰坦尼克号乘客数据集中乘客生存情况的决策树模型\n",
    "\n",
    "**实验课时：**1课时\n",
    "\n",
    "**实验目的：**\n",
    "\n",
    "* 了解测试与评估在机器学习中的作用；\n",
    "* 理解常用模型性能指标的计算方法；\n",
    "* 掌握计算模型性能指标的实现方法；\n",
    "* 掌握ROC曲线分析的实现方法。\n",
    "\n",
    "载入需要用到的程序包。"
   ]
  },
  {
   "cell_type": "code",
   "execution_count": 2,
   "metadata": {},
   "outputs": [],
   "source": [
    "import numpy as np\n",
    "import pandas as pd\n",
    "import matplotlib.pyplot as plt\n",
    "from sklearn.model_selection import train_test_split\n",
    "from sklearn.impute import SimpleImputer\n",
    "from sklearn.preprocessing import OrdinalEncoder, OneHotEncoder\n",
    "from sklearn.tree import DecisionTreeClassifier\n",
    "from sklearn.metrics import accuracy_score, roc_auc_score, precision_score, recall_score, f1_score, roc_curve, classification_report\n",
    "from sklearn.metrics import confusion_matrix, precision_recall_curve\n",
    "pd.set_option('mode.chained_assignment',None)"
   ]
  },
  {
   "cell_type": "code",
   "execution_count": 3,
   "metadata": {},
   "outputs": [
    {
     "data": {
      "text/html": [
       "<div>\n",
       "<style scoped>\n",
       "    .dataframe tbody tr th:only-of-type {\n",
       "        vertical-align: middle;\n",
       "    }\n",
       "\n",
       "    .dataframe tbody tr th {\n",
       "        vertical-align: top;\n",
       "    }\n",
       "\n",
       "    .dataframe thead th {\n",
       "        text-align: right;\n",
       "    }\n",
       "</style>\n",
       "<table border=\"1\" class=\"dataframe\">\n",
       "  <thead>\n",
       "    <tr style=\"text-align: right;\">\n",
       "      <th></th>\n",
       "      <th>pclass</th>\n",
       "      <th>survived</th>\n",
       "      <th>name</th>\n",
       "      <th>sex</th>\n",
       "      <th>age</th>\n",
       "      <th>sibsp</th>\n",
       "      <th>parch</th>\n",
       "      <th>ticket</th>\n",
       "      <th>fare</th>\n",
       "      <th>cabin</th>\n",
       "      <th>embarked</th>\n",
       "      <th>boat</th>\n",
       "      <th>body</th>\n",
       "      <th>home.dest</th>\n",
       "    </tr>\n",
       "  </thead>\n",
       "  <tbody>\n",
       "    <tr>\n",
       "      <th>0</th>\n",
       "      <td>1</td>\n",
       "      <td>1</td>\n",
       "      <td>Allen, Miss. Elisabeth Walton</td>\n",
       "      <td>female</td>\n",
       "      <td>29.0000</td>\n",
       "      <td>0</td>\n",
       "      <td>0</td>\n",
       "      <td>24160</td>\n",
       "      <td>211.3375</td>\n",
       "      <td>B5</td>\n",
       "      <td>S</td>\n",
       "      <td>2</td>\n",
       "      <td>NaN</td>\n",
       "      <td>St Louis, MO</td>\n",
       "    </tr>\n",
       "    <tr>\n",
       "      <th>1</th>\n",
       "      <td>1</td>\n",
       "      <td>1</td>\n",
       "      <td>Allison, Master. Hudson Trevor</td>\n",
       "      <td>male</td>\n",
       "      <td>0.9167</td>\n",
       "      <td>1</td>\n",
       "      <td>2</td>\n",
       "      <td>113781</td>\n",
       "      <td>151.5500</td>\n",
       "      <td>C22 C26</td>\n",
       "      <td>S</td>\n",
       "      <td>11</td>\n",
       "      <td>NaN</td>\n",
       "      <td>Montreal, PQ / Chesterville, ON</td>\n",
       "    </tr>\n",
       "    <tr>\n",
       "      <th>2</th>\n",
       "      <td>1</td>\n",
       "      <td>0</td>\n",
       "      <td>Allison, Miss. Helen Loraine</td>\n",
       "      <td>female</td>\n",
       "      <td>2.0000</td>\n",
       "      <td>1</td>\n",
       "      <td>2</td>\n",
       "      <td>113781</td>\n",
       "      <td>151.5500</td>\n",
       "      <td>C22 C26</td>\n",
       "      <td>S</td>\n",
       "      <td>NaN</td>\n",
       "      <td>NaN</td>\n",
       "      <td>Montreal, PQ / Chesterville, ON</td>\n",
       "    </tr>\n",
       "    <tr>\n",
       "      <th>3</th>\n",
       "      <td>1</td>\n",
       "      <td>0</td>\n",
       "      <td>Allison, Mr. Hudson Joshua Creighton</td>\n",
       "      <td>male</td>\n",
       "      <td>30.0000</td>\n",
       "      <td>1</td>\n",
       "      <td>2</td>\n",
       "      <td>113781</td>\n",
       "      <td>151.5500</td>\n",
       "      <td>C22 C26</td>\n",
       "      <td>S</td>\n",
       "      <td>NaN</td>\n",
       "      <td>135.0</td>\n",
       "      <td>Montreal, PQ / Chesterville, ON</td>\n",
       "    </tr>\n",
       "    <tr>\n",
       "      <th>4</th>\n",
       "      <td>1</td>\n",
       "      <td>0</td>\n",
       "      <td>Allison, Mrs. Hudson J C (Bessie Waldo Daniels)</td>\n",
       "      <td>female</td>\n",
       "      <td>25.0000</td>\n",
       "      <td>1</td>\n",
       "      <td>2</td>\n",
       "      <td>113781</td>\n",
       "      <td>151.5500</td>\n",
       "      <td>C22 C26</td>\n",
       "      <td>S</td>\n",
       "      <td>NaN</td>\n",
       "      <td>NaN</td>\n",
       "      <td>Montreal, PQ / Chesterville, ON</td>\n",
       "    </tr>\n",
       "  </tbody>\n",
       "</table>\n",
       "</div>"
      ],
      "text/plain": [
       "   pclass  survived                                             name     sex  \\\n",
       "0       1         1                    Allen, Miss. Elisabeth Walton  female   \n",
       "1       1         1                   Allison, Master. Hudson Trevor    male   \n",
       "2       1         0                     Allison, Miss. Helen Loraine  female   \n",
       "3       1         0             Allison, Mr. Hudson Joshua Creighton    male   \n",
       "4       1         0  Allison, Mrs. Hudson J C (Bessie Waldo Daniels)  female   \n",
       "\n",
       "       age  sibsp  parch  ticket      fare    cabin embarked boat   body  \\\n",
       "0  29.0000      0      0   24160  211.3375       B5        S    2    NaN   \n",
       "1   0.9167      1      2  113781  151.5500  C22 C26        S   11    NaN   \n",
       "2   2.0000      1      2  113781  151.5500  C22 C26        S  NaN    NaN   \n",
       "3  30.0000      1      2  113781  151.5500  C22 C26        S  NaN  135.0   \n",
       "4  25.0000      1      2  113781  151.5500  C22 C26        S  NaN    NaN   \n",
       "\n",
       "                         home.dest  \n",
       "0                     St Louis, MO  \n",
       "1  Montreal, PQ / Chesterville, ON  \n",
       "2  Montreal, PQ / Chesterville, ON  \n",
       "3  Montreal, PQ / Chesterville, ON  \n",
       "4  Montreal, PQ / Chesterville, ON  "
      ]
     },
     "execution_count": 3,
     "metadata": {},
     "output_type": "execute_result"
    }
   ],
   "source": [
    "titanic3_file_path=\"./titanic3.xls\"\n",
    "titanic3 = pd.read_excel(titanic3_file_path)\n",
    "titanic3.head()"
   ]
  },
  {
   "cell_type": "markdown",
   "metadata": {},
   "source": [
    "随机划分训练集和测试集。"
   ]
  },
  {
   "cell_type": "code",
   "execution_count": 17,
   "metadata": {},
   "outputs": [],
   "source": [
    "X = titanic3[['pclass', 'sex', 'age', 'sibsp', 'parch', 'fare', 'embarked']]\n",
    "y = titanic3['survived']\n",
    "train_X, test_X, train_y, test_y = train_test_split(X, y, test_size = 0.3, random_state = 123)"
   ]
  },
  {
   "cell_type": "markdown",
   "metadata": {},
   "source": [
    "填充训练集和测试集的缺失值。"
   ]
  },
  {
   "cell_type": "code",
   "execution_count": 18,
   "metadata": {},
   "outputs": [],
   "source": [
    "imp = SimpleImputer(strategy='median')\n",
    "train_X[['age','fare']] = imp.fit_transform(train_X[['age','fare']])\n",
    "test_X[['age','fare']] = imp.transform(test_X[['age','fare']])"
   ]
  },
  {
   "cell_type": "markdown",
   "metadata": {},
   "source": [
    "做训练集和测试集的独热编码。"
   ]
  },
  {
   "cell_type": "code",
   "execution_count": 19,
   "metadata": {},
   "outputs": [
    {
     "data": {
      "text/html": [
       "<div>\n",
       "<style scoped>\n",
       "    .dataframe tbody tr th:only-of-type {\n",
       "        vertical-align: middle;\n",
       "    }\n",
       "\n",
       "    .dataframe tbody tr th {\n",
       "        vertical-align: top;\n",
       "    }\n",
       "\n",
       "    .dataframe thead th {\n",
       "        text-align: right;\n",
       "    }\n",
       "</style>\n",
       "<table border=\"1\" class=\"dataframe\">\n",
       "  <thead>\n",
       "    <tr style=\"text-align: right;\">\n",
       "      <th></th>\n",
       "      <th>pclass_2nd</th>\n",
       "      <th>pclass_3rd</th>\n",
       "      <th>sex_male</th>\n",
       "      <th>embarked_Queenstown</th>\n",
       "      <th>embarked_Southampton</th>\n",
       "      <th>embarked_Unknown</th>\n",
       "      <th>sibsp</th>\n",
       "      <th>fare</th>\n",
       "      <th>parch</th>\n",
       "      <th>age</th>\n",
       "    </tr>\n",
       "  </thead>\n",
       "  <tbody>\n",
       "    <tr>\n",
       "      <th>0</th>\n",
       "      <td>0.0</td>\n",
       "      <td>0.0</td>\n",
       "      <td>1.0</td>\n",
       "      <td>0.0</td>\n",
       "      <td>0.0</td>\n",
       "      <td>0.0</td>\n",
       "      <td>26.5500</td>\n",
       "      <td>0.0</td>\n",
       "      <td>0.0</td>\n",
       "      <td>35.0</td>\n",
       "    </tr>\n",
       "    <tr>\n",
       "      <th>1</th>\n",
       "      <td>0.0</td>\n",
       "      <td>1.0</td>\n",
       "      <td>1.0</td>\n",
       "      <td>0.0</td>\n",
       "      <td>1.0</td>\n",
       "      <td>0.0</td>\n",
       "      <td>16.1000</td>\n",
       "      <td>0.0</td>\n",
       "      <td>1.0</td>\n",
       "      <td>30.0</td>\n",
       "    </tr>\n",
       "    <tr>\n",
       "      <th>2</th>\n",
       "      <td>0.0</td>\n",
       "      <td>1.0</td>\n",
       "      <td>0.0</td>\n",
       "      <td>0.0</td>\n",
       "      <td>1.0</td>\n",
       "      <td>0.0</td>\n",
       "      <td>17.4000</td>\n",
       "      <td>0.0</td>\n",
       "      <td>1.0</td>\n",
       "      <td>36.0</td>\n",
       "    </tr>\n",
       "    <tr>\n",
       "      <th>3</th>\n",
       "      <td>0.0</td>\n",
       "      <td>1.0</td>\n",
       "      <td>1.0</td>\n",
       "      <td>0.0</td>\n",
       "      <td>0.0</td>\n",
       "      <td>0.0</td>\n",
       "      <td>18.7875</td>\n",
       "      <td>0.0</td>\n",
       "      <td>0.0</td>\n",
       "      <td>26.0</td>\n",
       "    </tr>\n",
       "    <tr>\n",
       "      <th>4</th>\n",
       "      <td>0.0</td>\n",
       "      <td>1.0</td>\n",
       "      <td>1.0</td>\n",
       "      <td>0.0</td>\n",
       "      <td>1.0</td>\n",
       "      <td>0.0</td>\n",
       "      <td>14.1083</td>\n",
       "      <td>0.0</td>\n",
       "      <td>2.0</td>\n",
       "      <td>41.0</td>\n",
       "    </tr>\n",
       "  </tbody>\n",
       "</table>\n",
       "</div>"
      ],
      "text/plain": [
       "   pclass_2nd  pclass_3rd  sex_male  embarked_Queenstown  \\\n",
       "0         0.0         0.0       1.0                  0.0   \n",
       "1         0.0         1.0       1.0                  0.0   \n",
       "2         0.0         1.0       0.0                  0.0   \n",
       "3         0.0         1.0       1.0                  0.0   \n",
       "4         0.0         1.0       1.0                  0.0   \n",
       "\n",
       "   embarked_Southampton  embarked_Unknown    sibsp  fare  parch   age  \n",
       "0                   0.0               0.0  26.5500   0.0    0.0  35.0  \n",
       "1                   1.0               0.0  16.1000   0.0    1.0  30.0  \n",
       "2                   1.0               0.0  17.4000   0.0    1.0  36.0  \n",
       "3                   0.0               0.0  18.7875   0.0    0.0  26.0  \n",
       "4                   1.0               0.0  14.1083   0.0    2.0  41.0  "
      ]
     },
     "execution_count": 19,
     "metadata": {},
     "output_type": "execute_result"
    }
   ],
   "source": [
    "categorical_cols = ['pclass','sex','embarked']\n",
    "numeric_cols = list(set(X.columns) - set(categorical_cols))\n",
    "ohe = OneHotEncoder(drop = 'first', sparse = False)\n",
    "train_X = np.hstack((ohe.fit_transform(train_X[categorical_cols]), train_X[numeric_cols]))\n",
    "cols = [\"pclass_2nd\",\"pclass_3rd\",\"sex_male\",\"embarked_Queenstown\",\"embarked_Southampton\",\"embarked_Unknown\",\"sibsp\",\"fare\",\"parch\",\"age\"]\n",
    "train_X = pd.DataFrame(train_X, columns = cols)\n",
    "test_X = np.hstack((ohe.transform(test_X[categorical_cols]), test_X[numeric_cols]))\n",
    "test_X = pd.DataFrame(test_X, columns = cols)\n",
    "train_X.head()"
   ]
  },
  {
   "cell_type": "markdown",
   "metadata": {},
   "source": [
    "训练最佳超参数的决策树模型。"
   ]
  },
  {
   "cell_type": "code",
   "execution_count": 20,
   "metadata": {},
   "outputs": [
    {
     "data": {
      "text/plain": [
       "DecisionTreeClassifier(max_depth=3, min_impurity_decrease=0.005)"
      ]
     },
     "execution_count": 20,
     "metadata": {},
     "output_type": "execute_result"
    }
   ],
   "source": [
    "clf = DecisionTreeClassifier(max_depth = 3, min_impurity_decrease = 0.005)\n",
    "clf.fit(train_X,train_y)"
   ]
  },
  {
   "cell_type": "markdown",
   "metadata": {},
   "source": [
    "### 1. 测试模型\n",
    "\n",
    "在训练集上做完超参数调优和模型训练后，需要在测试集上对模型做**一次性**公正的评估。\n",
    "\n",
    "决策树模型有两个函数做预测，分别为：\n",
    "\n",
    "* 函数`predict()`表示预测类别标签；\n",
    "* 函数`predict_proba()`表示预测每个类别标签的概率。\n",
    "\n",
    "\n",
    "调用决策树模型的函数`predict()`在测试集上预测类别标签，输入参数为测试集的自变量。"
   ]
  },
  {
   "cell_type": "code",
   "execution_count": 23,
   "metadata": {},
   "outputs": [
    {
     "data": {
      "text/plain": [
       "array([1, 0, 1, 0, 0], dtype=int64)"
      ]
     },
     "execution_count": 23,
     "metadata": {},
     "output_type": "execute_result"
    }
   ],
   "source": [
    "predict_y = clf.predict(test_X)\n",
    "predict_y[:5]"
   ]
  },
  {
   "cell_type": "markdown",
   "metadata": {},
   "source": [
    "调用决策树模型的函数`predict_proba()`在测试集上预测类别标签的概率，输入参数为测试集的自变量Numpy数组，输出为2列，第1列为阴性类别（标签为0）的预测概率，第2列为阳性类别（标签为1）的预测概率。"
   ]
  },
  {
   "cell_type": "code",
   "execution_count": 24,
   "metadata": {},
   "outputs": [
    {
     "data": {
      "text/plain": [
       "array([[0.4057971 , 0.5942029 ],\n",
       "       [0.86956522, 0.13043478],\n",
       "       [0.09036145, 0.90963855],\n",
       "       [0.70503597, 0.29496403],\n",
       "       [0.86956522, 0.13043478]])"
      ]
     },
     "execution_count": 24,
     "metadata": {},
     "output_type": "execute_result"
    }
   ],
   "source": [
    "probas_y = clf.predict_proba(test_X)\n",
    "probas_y[:5]"
   ]
  },
  {
   "cell_type": "markdown",
   "metadata": {},
   "source": [
    "在做更复杂的模型性能评估之前，先了解一些直观的性能指标。\n",
    "\n",
    "精度并不一定是一个公正的衡量模型性能的指标。试想对于100个样本，其中99个阴性样本，1个阳性样本，如果全部预测为阴性样本，则模型的精度也可以达到99\\%，然而这样的模型并不一定是我们想要的。\n",
    "\n",
    "对于二分类问题，常用ROC曲线下面积（area under curve，AUC）作为模型性能指标，在介绍该指标之前，首先需要定义如下4种预测结果：\n",
    "\n",
    "* 真阳性（true positive，TP）：预测为阳性，实际为阳性；\n",
    "* 假阳性（false positive，FP）：预测为阳性，实际为阴性；\n",
    "* 真阴性（true negative，TN）：预测为阴性，实际为阴性；\n",
    "* 假阴性（false negative，FN）：预测为阴性，实际为阳性。\n",
    "\n",
    "也可以通过下表呈现，并定义真阳性率（TPR）和假阳性率（FPR）。"
   ]
  },
  {
   "cell_type": "markdown",
   "metadata": {},
   "source": [
    "- |预测为阳性  | 预测为阴性  |  -\n",
    "------|------|------|------\n",
    "实际为阳性  | 真阳性（TP）  | 假阴性（FN）  | 真阳性率（TPR = TP/(TP+FN)） \n",
    "实际为阴性  | 假阳性（FP）  | 真阴性（TN）  | 假阳性率（FPR = FP/(FP+TN)）  "
   ]
  },
  {
   "cell_type": "markdown",
   "metadata": {},
   "source": [
    "另外常用的还有查准率（precision）、查全率（recall）和综合了两者的F1度量。\n",
    "\n",
    "$$\n",
    "\\text{precision}=\\frac{TP}{TP+FP}\n",
    "$$\n",
    "$$\n",
    "\\text{recall}=\\frac{TP}{TP+FN}\n",
    "$$\n",
    "\n",
    "$$\n",
    "F1=\\frac{2\\times \\text{precision}\\times \\text{recall}}{\\text{precision}+ \\text{recall}}\n",
    "$$\n",
    "\n",
    "在程序包`sklearn.metrics`中对应了不同函数计算不同模型性能，主要包括：\n",
    "\n",
    "* 函数`confusion_matrix()`表示混淆矩阵，即上表的真阳性、假阴性、假阳性和真阴性组成的矩阵；\n",
    "* 函数`accuracy_score()`表示精度；\n",
    "* 函数`precision_score()`表示查准率；\n",
    "* 函数`recall_score()`表示查全率；\n",
    "* 函数`f1_score()`表示F1度量。\n",
    "\n",
    "其中\n",
    "\n",
    "* 第1个参数`y_true`表示真实标签；\n",
    "* 第2个参数`y_pred`表示预测标签。"
   ]
  },
  {
   "cell_type": "code",
   "execution_count": 25,
   "metadata": {},
   "outputs": [
    {
     "data": {
      "text/plain": [
       "array([[217,  27],\n",
       "       [ 42, 107]], dtype=int64)"
      ]
     },
     "execution_count": 25,
     "metadata": {},
     "output_type": "execute_result"
    }
   ],
   "source": [
    "confusion_matrix(test_y, predict_y)"
   ]
  },
  {
   "cell_type": "code",
   "execution_count": 26,
   "metadata": {},
   "outputs": [
    {
     "data": {
      "text/plain": [
       "0.8244274809160306"
      ]
     },
     "execution_count": 26,
     "metadata": {},
     "output_type": "execute_result"
    }
   ],
   "source": [
    "accuracy_score(test_y, predict_y)"
   ]
  },
  {
   "cell_type": "code",
   "execution_count": 27,
   "metadata": {},
   "outputs": [
    {
     "data": {
      "text/plain": [
       "0.7985074626865671"
      ]
     },
     "execution_count": 27,
     "metadata": {},
     "output_type": "execute_result"
    }
   ],
   "source": [
    "precision_score(test_y, predict_y)"
   ]
  },
  {
   "cell_type": "code",
   "execution_count": 28,
   "metadata": {},
   "outputs": [
    {
     "data": {
      "text/plain": [
       "0.7181208053691275"
      ]
     },
     "execution_count": 28,
     "metadata": {},
     "output_type": "execute_result"
    }
   ],
   "source": [
    "recall_score(test_y, predict_y)"
   ]
  },
  {
   "cell_type": "code",
   "execution_count": 29,
   "metadata": {},
   "outputs": [
    {
     "data": {
      "text/plain": [
       "0.7561837455830388"
      ]
     },
     "execution_count": 29,
     "metadata": {},
     "output_type": "execute_result"
    }
   ],
   "source": [
    "f1_score(test_y, predict_y)"
   ]
  },
  {
   "cell_type": "markdown",
   "metadata": {},
   "source": [
    "进一步的，可以调用程序包`sklearn.metrics`的函数`classification_report()`查看每个类的这些性能指标，行成分类性能报告。"
   ]
  },
  {
   "cell_type": "code",
   "execution_count": 30,
   "metadata": {},
   "outputs": [
    {
     "name": "stdout",
     "output_type": "stream",
     "text": [
      "              precision    recall  f1-score   support\n",
      "\n",
      "           0       0.84      0.89      0.86       244\n",
      "           1       0.80      0.72      0.76       149\n",
      "\n",
      "    accuracy                           0.82       393\n",
      "   macro avg       0.82      0.80      0.81       393\n",
      "weighted avg       0.82      0.82      0.82       393\n",
      "\n"
     ]
    }
   ],
   "source": [
    "print(classification_report(test_y, predict_y))"
   ]
  },
  {
   "cell_type": "markdown",
   "metadata": {},
   "source": [
    "### 2. 分类阈值\n",
    "\n",
    "Scikit-learn中对于二分类问题，哪个类别概率大于0.5，则默认预测类别标签为哪个类。然而有些情况下，我们需要调节模型的灵敏度。例如，在交易反欺诈模型中，阈值设为0.5后我们发现过多的正常交易被分类为欺诈交易，影响了用户体验，这时我们需要提高欺诈交易的阈值，例如设为0.8，降低模型的灵敏度。\n",
    "\n",
    "这里我们将阳性类的阈值设置为0.6，重新计算一些模型性能指标。"
   ]
  },
  {
   "cell_type": "code",
   "execution_count": 32,
   "metadata": {},
   "outputs": [
    {
     "data": {
      "text/plain": [
       "array([[241,   3],\n",
       "       [ 63,  86]], dtype=int64)"
      ]
     },
     "execution_count": 32,
     "metadata": {},
     "output_type": "execute_result"
    }
   ],
   "source": [
    "predict_y = (probas_y[:,1] > 0.6).astype(int)\n",
    "confusion_matrix(test_y, predict_y)"
   ]
  },
  {
   "cell_type": "code",
   "execution_count": 33,
   "metadata": {},
   "outputs": [
    {
     "data": {
      "text/plain": [
       "0.8320610687022901"
      ]
     },
     "execution_count": 33,
     "metadata": {},
     "output_type": "execute_result"
    }
   ],
   "source": [
    "accuracy_score(test_y, predict_y)"
   ]
  },
  {
   "cell_type": "code",
   "execution_count": 34,
   "metadata": {},
   "outputs": [
    {
     "data": {
      "text/plain": [
       "0.7226890756302522"
      ]
     },
     "execution_count": 34,
     "metadata": {},
     "output_type": "execute_result"
    }
   ],
   "source": [
    "f1_score(test_y, predict_y)"
   ]
  },
  {
   "cell_type": "markdown",
   "metadata": {},
   "source": [
    "可以看出，精度略有提高，F1度量略有下降。"
   ]
  },
  {
   "cell_type": "markdown",
   "metadata": {},
   "source": [
    "### 3. ROC分析\n",
    "\n",
    "受试者工作特征曲线（receiver operating characteristic curve，ROC曲线），即假阳性率（FPR）为横轴、真阳性率（TPR）为纵轴所画出的曲线。分类阈值分别取0到1 中的各个数，计算不同阈值对应的FPR和TPR，描点得到ROC曲线。\n",
    "\n",
    "ROC曲线下面积（AUC）会出现如下3种情况：\n",
    "\n",
    "* $0.5<\\text{AUC}<=1$时，模型优于随机猜测，设定合适的阈值则具有预测价值；\n",
    "* $\\text{AUC}=0.5$时，模型与随机猜测一致，无预测价值；\n",
    "* $0<=\\text{AUC}<0.5$时，模型差于随机猜测，但如果总是反预测而行，反而能产生预测价值。\n",
    "\n",
    "调用程序包`sklearn.metrics`函数`roc_curve()`计算二分类问题中不同阈值对应的假阳性率（FPR）和真阳性率（TPR），其中\n",
    "\n",
    "* 第1个参数`y_true`表示真实标签；\n",
    "* 第2个参数`y_score`表示**阳性类别的预测概率**，而不是预测标签；\n",
    "* 返回假阳性率（FPR）、真阳性率（TPR）和阈值。"
   ]
  },
  {
   "cell_type": "code",
   "execution_count": 35,
   "metadata": {},
   "outputs": [],
   "source": [
    "fpr, tpr, thresholds = roc_curve(test_y, probas_y[:, 1])"
   ]
  },
  {
   "cell_type": "markdown",
   "metadata": {},
   "source": [
    "绘制ROC曲线。"
   ]
  },
  {
   "cell_type": "code",
   "execution_count": 37,
   "metadata": {},
   "outputs": [
    {
     "data": {
      "image/png": "[encoded data removed]",
      "text/plain": [
       "<Figure size 432x288 with 1 Axes>"
      ]
     },
     "metadata": {
      "needs_background": "light"
     },
     "output_type": "display_data"
    }
   ],
   "source": [
    "plt.figure()\n",
    "plt.plot(fpr, tpr)\n",
    "plt.plot([0,1], [0,1], linestyle='--')\n",
    "plt.xlabel('False Positive Rate')\n",
    "plt.ylabel('True Positive Rate')\n",
    "plt.show()"
   ]
  },
  {
   "cell_type": "markdown",
   "metadata": {},
   "source": [
    "另有函数`roc_auc_score()`计算ROC曲线下面积，其中\n",
    "\n",
    "* 第1个参数`y_true`表示真实标签；\n",
    "* 第2个参数`y_score`表示阳性类别的预测概率。"
   ]
  },
  {
   "cell_type": "code",
   "execution_count": 38,
   "metadata": {},
   "outputs": [
    {
     "data": {
      "text/plain": [
       "0.8639564308504787"
      ]
     },
     "execution_count": 38,
     "metadata": {},
     "output_type": "execute_result"
    }
   ],
   "source": [
    "roc_auc_score(test_y, probas_y[:, 1])"
   ]
  },
  {
   "cell_type": "markdown",
   "metadata": {},
   "source": [
    "类似ROC曲线，我们还经常会绘制x轴为查全率（recall）、y轴为查准率（precision）的PR曲线，同样是反映两种性能指标之间此消彼长的权衡关系。\n",
    "\n",
    "调用序包`sklearn.metrics`函数`precision_recall_curve()`计算二分类问题中不同阈值对应的查全率（recall）和查准率（precision）。"
   ]
  },
  {
   "cell_type": "code",
   "execution_count": 40,
   "metadata": {},
   "outputs": [],
   "source": [
    "precision, recall, thresholds = precision_recall_curve(test_y, probas_y[:, 1])"
   ]
  },
  {
   "cell_type": "markdown",
   "metadata": {},
   "source": [
    "绘制PR曲线。"
   ]
  },
  {
   "cell_type": "code",
   "execution_count": 42,
   "metadata": {},
   "outputs": [
    {
     "data": {
      "image/png": "[encoded data removed]",
      "text/plain": [
       "<Figure size 432x288 with 1 Axes>"
      ]
     },
     "metadata": {
      "needs_background": "light"
     },
     "output_type": "display_data"
    }
   ],
   "source": [
    "plt.figure()\n",
    "plt.plot(recall, precision)\n",
    "plt.plot([1,0], [0,1], linestyle='--')\n",
    "plt.xlabel('Recall')\n",
    "plt.ylabel('Precision')\n",
    "plt.show()"
   ]
  },
  {
   "cell_type": "code",
   "execution_count": null,
   "metadata": {},
   "outputs": [],
   "source": []
  },
  {
   "cell_type": "code",
   "execution_count": null,
   "metadata": {},
   "outputs": [],
   "source": []
  },
  {
   "cell_type": "code",
   "execution_count": null,
   "metadata": {},
   "outputs": [],
   "source": []
  }
 ],
 "metadata": {
  "kernelspec": {
   "display_name": "Python 3",
   "language": "python",
   "name": "python3"
  },
  "language_info": {
   "codemirror_mode": {
    "name": "ipython",
    "version": 3
   },
   "file_extension": ".py",
   "mimetype": "text/x-python",
   "name": "python",
   "nbconvert_exporter": "python",
   "pygments_lexer": "ipython3",
   "version": "3.7.0"
  }
 },
 "nbformat": 4,
 "nbformat_minor": 2
}
